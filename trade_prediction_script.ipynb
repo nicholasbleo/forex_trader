{
 "cells": [
  {
   "cell_type": "code",
   "execution_count": 336,
   "metadata": {},
   "outputs": [],
   "source": [
    "import pandas as pd\n",
    "from datetime import datetime\n",
    "from sklearn.linear_model import LogisticRegression\n",
    "from sklearn.ensemble import RandomForestClassifier, GradientBoostingClassifier\n",
    "from sklearn.model_selection import train_test_split\n",
    "from sklearn import metrics"
   ]
  },
  {
   "cell_type": "code",
   "execution_count": 337,
   "metadata": {},
   "outputs": [],
   "source": [
    "def date_parser(x):\n",
    "    return datetime.strptime(x, '%Y-%m-%d')"
   ]
  },
  {
   "cell_type": "code",
   "execution_count": 338,
   "metadata": {},
   "outputs": [],
   "source": [
    "data = pd.read_csv('data/usdchf_daily_2024.csv')\n",
    "data.dropna(inplace=True)"
   ]
  },
  {
   "cell_type": "code",
   "execution_count": 339,
   "metadata": {},
   "outputs": [
    {
     "data": {
      "text/plain": [
       "195"
      ]
     },
     "execution_count": 339,
     "metadata": {},
     "output_type": "execute_result"
    }
   ],
   "source": [
    "len(data)"
   ]
  },
  {
   "cell_type": "code",
   "execution_count": 340,
   "metadata": {},
   "outputs": [],
   "source": [
    "data = data.sort_values(by='date').reset_index(drop=True)"
   ]
  },
  {
   "cell_type": "code",
   "execution_count": 341,
   "metadata": {},
   "outputs": [],
   "source": [
    "data_lag_1 = data[['open', 'high', 'low', 'close']].shift(1).add_suffix('_lag_1')\n",
    "data_lag_2 = data[['open', 'high', 'low', 'close']].shift(2).add_suffix('_lag_2')\n",
    "data_lag_3 = data[['open', 'high', 'low', 'close']].shift(3).add_suffix('_lag_3')\n",
    "data_lag_4 = data[['open', 'high', 'low', 'close']].shift(4).add_suffix('_lag_4')\n",
    "data_lag_5 = data[['open', 'high', 'low', 'close']].shift(5).add_suffix('_lag_5')\n",
    "data_lag_6 = data[['open', 'high', 'low', 'close']].shift(6).add_suffix('_lag_6')\n",
    "data_lag_7 = data[['open', 'high', 'low', 'close']].shift(7).add_suffix('_lag_7')"
   ]
  },
  {
   "cell_type": "code",
   "execution_count": 342,
   "metadata": {},
   "outputs": [],
   "source": [
    "data = pd.concat([data, data_lag_1, data_lag_2, data_lag_3, data_lag_4, data_lag_5, data_lag_6, data_lag_7], axis=1)"
   ]
  },
  {
   "cell_type": "code",
   "execution_count": 343,
   "metadata": {},
   "outputs": [],
   "source": [
    "data['gain_on_day'] = (data['open'] > data['close']).apply(int)"
   ]
  },
  {
   "cell_type": "code",
   "execution_count": 344,
   "metadata": {},
   "outputs": [],
   "source": [
    "data = data.dropna()"
   ]
  },
  {
   "cell_type": "code",
   "execution_count": 345,
   "metadata": {},
   "outputs": [],
   "source": [
    "feature_columns = list(data.columns)\n",
    "feature_columns.remove('date')\n",
    "feature_columns.remove('gain_on_day')\n",
    "feature_columns.remove('open')\n",
    "feature_columns.remove('close')\n",
    "feature_columns.remove('high')\n",
    "feature_columns.remove('low')"
   ]
  },
  {
   "cell_type": "code",
   "execution_count": 346,
   "metadata": {},
   "outputs": [],
   "source": [
    "x = data[feature_columns] # Features\n",
    "y = data.gain_on_day # Target variable\n",
    "x_train, x_test, y_train, y_test = train_test_split(x, y, test_size=0.25, shuffle=False)"
   ]
  },
  {
   "cell_type": "code",
   "execution_count": 347,
   "metadata": {},
   "outputs": [
    {
     "name": "stdout",
     "output_type": "stream",
     "text": [
      "              precision    recall  f1-score   support\n",
      "\n",
      "           0       0.41      0.89      0.57        19\n",
      "           1       0.67      0.14      0.24        28\n",
      "\n",
      "    accuracy                           0.45        47\n",
      "   macro avg       0.54      0.52      0.40        47\n",
      "weighted avg       0.56      0.45      0.37        47\n",
      "\n"
     ]
    }
   ],
   "source": [
    "logreg = LogisticRegression(class_weight='balanced')\n",
    "logreg.fit(x_train, y_train)\n",
    "logreg_y_probabilities = logreg.predict_proba(x_test)\n",
    "logreg_y_predictions = [int(x > .49) for x in list(logreg_y_probabilities[:, 1])]\n",
    "print(metrics.classification_report(y_test, logreg_y_predictions))"
   ]
  },
  {
   "cell_type": "code",
   "execution_count": 348,
   "metadata": {},
   "outputs": [
    {
     "name": "stdout",
     "output_type": "stream",
     "text": [
      "              precision    recall  f1-score   support\n",
      "\n",
      "           0       0.43      0.95      0.59        19\n",
      "           1       0.80      0.14      0.24        28\n",
      "\n",
      "    accuracy                           0.47        47\n",
      "   macro avg       0.61      0.55      0.42        47\n",
      "weighted avg       0.65      0.47      0.38        47\n",
      "\n"
     ]
    }
   ],
   "source": [
    "rf = RandomForestClassifier()\n",
    "rf.fit(x_train, y_train)\n",
    "rf_y_predictions = rf.predict(x_test)\n",
    "print(metrics.classification_report(y_test, rf_y_predictions))"
   ]
  },
  {
   "cell_type": "code",
   "execution_count": 349,
   "metadata": {},
   "outputs": [
    {
     "name": "stdout",
     "output_type": "stream",
     "text": [
      "              precision    recall  f1-score   support\n",
      "\n",
      "           0       0.42      0.84      0.56        19\n",
      "           1       0.67      0.21      0.32        28\n",
      "\n",
      "    accuracy                           0.47        47\n",
      "   macro avg       0.54      0.53      0.44        47\n",
      "weighted avg       0.57      0.47      0.42        47\n",
      "\n"
     ]
    }
   ],
   "source": [
    "gb = GradientBoostingClassifier()\n",
    "gb.fit(x_train, y_train)\n",
    "gb_y_predictions = gb.predict(x_test)\n",
    "print(metrics.classification_report(y_test, gb_y_predictions))"
   ]
  }
 ],
 "metadata": {
  "kernelspec": {
   "display_name": "ds",
   "language": "python",
   "name": "python3"
  },
  "language_info": {
   "codemirror_mode": {
    "name": "ipython",
    "version": 3
   },
   "file_extension": ".py",
   "mimetype": "text/x-python",
   "name": "python",
   "nbconvert_exporter": "python",
   "pygments_lexer": "ipython3",
   "version": "3.11.4"
  }
 },
 "nbformat": 4,
 "nbformat_minor": 2
}
